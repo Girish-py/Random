{
 "cells": [
  {
   "cell_type": "markdown",
   "metadata": {},
   "source": [
    "## Importing the required LIBRARY and Setting up Connection"
   ]
  },
  {
   "cell_type": "markdown",
   "metadata": {},
   "source": [
    "##### Here I have created a Database named \"dummy_zomato2\" in which I am going to create the multiple tables for the required SQL Queries"
   ]
  },
  {
   "cell_type": "code",
   "execution_count": 175,
   "metadata": {},
   "outputs": [
    {
     "name": "stdout",
     "output_type": "stream",
     "text": [
      "Opened database successfully\n"
     ]
    }
   ],
   "source": [
    "import sqlite3\n",
    "conn = sqlite3.connect('dummy_zomato2.db')\n",
    "cursor = conn.cursor()\n",
    "print(\"Opened database successfully\")"
   ]
  },
  {
   "cell_type": "markdown",
   "metadata": {},
   "source": [
    "##### Creating and populating the first table named \"DELIVERY2\" which contains the details of the  Delivery boys of Zomato\n",
    "It has 6 columns :\\\n",
    "**ID** - Unique ID associated with each delivery boy\\\n",
    "**NAME** - Name of the Delivery Associates\\\n",
    "**AGE** - Age of the Delivery Associates\\\n",
    "**Location** - City where they deliver food from Zomato \\\n",
    "**AVG** - It is the average time they take to deliver an item to the Customer"
   ]
  },
  {
   "cell_type": "code",
   "execution_count": 176,
   "metadata": {},
   "outputs": [
    {
     "data": {
      "text/plain": [
       "<sqlite3.Cursor at 0xaf077b880>"
      ]
     },
     "execution_count": 176,
     "metadata": {},
     "output_type": "execute_result"
    }
   ],
   "source": [
    "cursor.execute('''CREATE TABLE DELIVERY2\n",
    "         (ID INT PRIMARY KEY     NOT NULL,\n",
    "         NAME           TEXT    NOT NULL,\n",
    "         AGE            INT     NOT NULL,\n",
    "         LOCATION        CHAR(50),\n",
    "         RATING REAL,\n",
    "         AVG DELIVERY TIME REAL);''')\n",
    "#cursor.close()"
   ]
  },
  {
   "cell_type": "code",
   "execution_count": 177,
   "metadata": {},
   "outputs": [],
   "source": [
    "cursor.execute(\"INSERT INTO DELIVERY2 (ID,NAME,AGE,LOCATION,RATING,AVG) \\\n",
    "      VALUES (1, 'Rohan', 23, 'Bangalore', 4.3, 32.0)\");\n",
    "cursor.execute(\"INSERT INTO DELIVERY2 (ID,NAME,AGE,LOCATION,RATING,AVG) \\\n",
    "      VALUES (2, 'Allen', 21, 'Bangalore', 4.0, 27.0 )\");\n",
    "cursor.execute(\"INSERT INTO DELIVERY2 (ID,NAME,AGE,LOCATION,RATING,AVG) \\\n",
    "      VALUES (3, 'Martha', 28, 'Bangalore', 4.8, 25.3 )\");\n",
    "cursor.execute(\"INSERT INTO DELIVERY2 (ID,NAME,AGE,LOCATION,RATING,AVG) \\\n",
    "      VALUES (4, 'Palak', 32, 'Bangalore', 3.9, 30.2)\");\n",
    "cursor.execute(\"INSERT INTO DELIVERY2 (ID,NAME,AGE,LOCATION,RATING,AVG) \\\n",
    "      VALUES (5, 'Rahul', 20, 'Bangalore', 4.1, 27.4)\");\n",
    "cursor.execute(\"INSERT INTO DELIVERY2 (ID,NAME,AGE,LOCATION,RATING,AVG) \\\n",
    "      VALUES (6, 'Drishant', 29, 'Bangalore', 3.8, 25.6 )\");\n",
    "cursor.execute(\"INSERT INTO DELIVERY2 (ID,NAME,AGE,LOCATION,RATING,AVG) \\\n",
    "      VALUES (7, 'Mohan', 25, 'Bangalore', 4.0, 20.18 )\");\n",
    "cursor.execute(\"INSERT INTO DELIVERY2 (ID,NAME,AGE,LOCATION,RATING,AVG) \\\n",
    "      VALUES (8, 'Vishal', 19, 'Bangalore', 4.3, 26.0)\");\n",
    "cursor.execute(\"INSERT INTO DELIVERY2 (ID,NAME,AGE,LOCATION,RATING,AVG) \\\n",
    "      VALUES (9, 'Ravish', 23, 'Bangalore', 4.4, 25.0)\");\n",
    "cursor.execute(\"INSERT INTO DELIVERY2 (ID,NAME,AGE,LOCATION,RATING,AVG) \\\n",
    "      VALUES (10, 'Kumar', 24, 'Bangalore', 4.0, 27.5 )\");\n",
    "cursor.execute(\"INSERT INTO DELIVERY2 (ID,NAME,AGE,LOCATION,RATING,AVG) \\\n",
    "      VALUES (11, 'Shiva', 35, 'Bangalore', 3.6, 29.8 )\");\n",
    "cursor.execute(\"INSERT INTO DELIVERY2 (ID,NAME,AGE,LOCATION,RATING,AVG) \\\n",
    "      VALUES (12, 'Kabir', 33, 'Bangalore', 3.9, 30.6)\");\n",
    "cursor.execute(\"INSERT INTO DELIVERY2 (ID,NAME,AGE,LOCATION,RATING,AVG) \\\n",
    "      VALUES (13, 'Gourav', 23, 'Bangalore', 4.4, 28.4)\");\n",
    "cursor.execute(\"INSERT INTO DELIVERY2 (ID,NAME,AGE,LOCATION,RATING,AVG) \\\n",
    "      VALUES (14, 'Drishant', 29, 'Bangalore', 3.8, 25.6 )\");\n",
    "cursor.execute(\"INSERT INTO DELIVERY2 (ID,NAME,AGE,LOCATION,RATING,AVG) \\\n",
    "      VALUES (15, 'Vijay', 40, 'Bangalore', 4.7, 23.18 )\");\n",
    "cursor.execute(\"INSERT INTO DELIVERY2 (ID,NAME,AGE,LOCATION,RATING,AVG) \\\n",
    "      VALUES (16, 'DK', 17, 'Bangalore', 4.5, 23.0)\");\n",
    "cursor.execute(\"INSERT INTO DELIVERY2 (ID,NAME,AGE,LOCATION,RATING,AVG) \\\n",
    "      VALUES (17, 'Ravi', 37, 'Bangalore', 3.4, 37.6)\");\n",
    "cursor.execute(\"INSERT INTO DELIVERY2 (ID,NAME,AGE,LOCATION,RATING,AVG) \\\n",
    "      VALUES (18, 'Gautam', 23, 'Bangalore', 4.0, 22.4)\");\n",
    "cursor.execute(\"INSERT INTO DELIVERY2 (ID,NAME,AGE,LOCATION,RATING,AVG) \\\n",
    "      VALUES (19, 'Viom', 29, 'Bangalore', 3.2, 40.0 )\");\n",
    "cursor.execute(\"INSERT INTO DELIVERY2 (ID,NAME,AGE,LOCATION,RATING,AVG) \\\n",
    "      VALUES (20, 'Harry', 35, 'Bangalore', 4.6, 26.18 )\");\n",
    "\n",
    "conn.commit()\n",
    "#conn.close()"
   ]
  },
  {
   "cell_type": "markdown",
   "metadata": {},
   "source": [
    "##### Creating and populating the second table named \"CUSTOMER1\" which contains the details of the Customers of Zomato\n",
    "It has 4 columns :\\\n",
    "**ID** - Unique ID associated with each customer & also the primary key of the table\\\n",
    "**NAME** - Name of the CUstomer\\\n",
    "**Location** - City where the customer lives in \\\n",
    "**NO_OF_ORDERS_PER_MONTH** - It is the total number of times the custoer orders food from zomato in a month\n"
   ]
  },
  {
   "cell_type": "code",
   "execution_count": 178,
   "metadata": {},
   "outputs": [
    {
     "data": {
      "text/plain": [
       "<sqlite3.Cursor at 0xaf077b880>"
      ]
     },
     "execution_count": 178,
     "metadata": {},
     "output_type": "execute_result"
    }
   ],
   "source": [
    "cursor.execute('''CREATE TABLE CUSTOMER1\n",
    "         (ID INT PRIMARY KEY     NOT NULL,\n",
    "         NAME           TEXT    NOT NULL,\n",
    "         LOCATION        CHAR(50),\n",
    "         NO_OF_ORDERS_PER_MONTH INT);''')"
   ]
  },
  {
   "cell_type": "code",
   "execution_count": 179,
   "metadata": {},
   "outputs": [],
   "source": [
    "cursor.execute(\"INSERT INTO CUSTOMER1 (ID,NAME,LOCATION,NO_OF_ORDERS_PER_MONTH) \\\n",
    "      VALUES (21, 'Suamangal Saha','Bangalore',7)\");\n",
    "cursor.execute(\"INSERT INTO CUSTOMER1 (ID,NAME,LOCATION,NO_OF_ORDERS_PER_MONTH) \\\n",
    "      VALUES (22, 'Vishal Roy','Bangalore',5)\");\n",
    "cursor.execute(\"INSERT INTO CUSTOMER1 (ID,NAME,LOCATION,NO_OF_ORDERS_PER_MONTH) \\\n",
    "      VALUES (23, 'Kaushik Das','Bangalore',3)\");\n",
    "cursor.execute(\"INSERT INTO CUSTOMER1 (ID,NAME,LOCATION,NO_OF_ORDERS_PER_MONTH) \\\n",
    "      VALUES (24, 'Girish Bhattacharjee','Bangalore',13)\");\n",
    "cursor.execute(\"INSERT INTO CUSTOMER1 (ID,NAME,LOCATION,NO_OF_ORDERS_PER_MONTH) \\\n",
    "      VALUES (25, 'Sruti Bhattacharya','Bangalore',5)\");\n",
    "cursor.execute(\"INSERT INTO CUSTOMER1 (ID,NAME,LOCATION,NO_OF_ORDERS_PER_MONTH) \\\n",
    "      VALUES (26, 'Sayantini Deb','Bangalore',15)\");\n",
    "cursor.execute(\"INSERT INTO CUSTOMER1 (ID,NAME,LOCATION,NO_OF_ORDERS_PER_MONTH) \\\n",
    "      VALUES (27, 'DK Saha','Bangalore',25)\");\n",
    "cursor.execute(\"INSERT INTO CUSTOMER1 (ID,NAME,LOCATION,NO_OF_ORDERS_PER_MONTH) \\\n",
    "      VALUES (28, 'Anannya Chakraborty','Bangalore',9)\");\n",
    "cursor.execute(\"INSERT INTO CUSTOMER1 (ID,NAME,LOCATION,NO_OF_ORDERS_PER_MONTH) \\\n",
    "      VALUES (29, 'Arnab Roy','Bangalore',14)\");\n",
    "cursor.execute(\"INSERT INTO CUSTOMER1 (ID,NAME,LOCATION,NO_OF_ORDERS_PER_MONTH) \\\n",
    "      VALUES (30, 'Srinjana Barman','Bangalore',2)\");\n",
    "cursor.execute(\"INSERT INTO CUSTOMER1 (ID,NAME,LOCATION,NO_OF_ORDERS_PER_MONTH) \\\n",
    "      VALUES (31, 'Devasmita Nath','Bangalore',6)\");\n",
    "cursor.execute(\"INSERT INTO CUSTOMER1 (ID,NAME,LOCATION,NO_OF_ORDERS_PER_MONTH) \\\n",
    "      VALUES (32, 'Hrituraj Majumder','Bangalore',20)\");\n",
    "cursor.execute(\"INSERT INTO CUSTOMER1 (ID,NAME,LOCATION,NO_OF_ORDERS_PER_MONTH) \\\n",
    "      VALUES (33, 'Rahul Das','Bangalore',7)\");\n",
    "cursor.execute(\"INSERT INTO CUSTOMER1 (ID,NAME,LOCATION,NO_OF_ORDERS_PER_MONTH) \\\n",
    "      VALUES (34, 'Rituparna Saha','Bangalore',3)\");\n",
    "cursor.execute(\"INSERT INTO CUSTOMER1 (ID,NAME,LOCATION,NO_OF_ORDERS_PER_MONTH) \\\n",
    "      VALUES (35, 'Rajat Saha','Bangalore',26)\");\n",
    "cursor.execute(\"INSERT INTO CUSTOMER1 (ID,NAME,LOCATION,NO_OF_ORDERS_PER_MONTH) \\\n",
    "      VALUES (36, 'Ishanka Das','Bangalore',4)\");\n",
    "cursor.execute(\"INSERT INTO CUSTOMER1 (ID,NAME,LOCATION,NO_OF_ORDERS_PER_MONTH) \\\n",
    "      VALUES (37, 'Ankit Das','Bangalore',8)\");\n",
    "cursor.execute(\"INSERT INTO CUSTOMER1 (ID,NAME,LOCATION,NO_OF_ORDERS_PER_MONTH) \\\n",
    "      VALUES (38, 'Apratim Deb','Bangalore',5)\");\n",
    "cursor.execute(\"INSERT INTO CUSTOMER1 (ID,NAME,LOCATION,NO_OF_ORDERS_PER_MONTH) \\\n",
    "      VALUES (39, 'Nirmalya Debroy','Bangalore',6)\");\n",
    "cursor.execute(\"INSERT INTO CUSTOMER1 (ID,NAME,LOCATION,NO_OF_ORDERS_PER_MONTH) \\\n",
    "      VALUES (40, 'Adrija Acharya','Bangalore',3)\");\n",
    "\n",
    "conn.commit()"
   ]
  },
  {
   "cell_type": "markdown",
   "metadata": {},
   "source": [
    "##### Creating and populating the third table named \"RESTAURANTS1\" which contains the details of the Restaurants covered by Zomato\n",
    "It has 4 columns :\\\n",
    "**ID** - Unique ID associated with each RESTAURANT & also the primary key of the table\\\n",
    "**NAME** - Name of the Restaurant\\\n",
    "**Location** - City where the restaurant is in \\\n",
    "**RATING** - Aerage rating given by different zomato users to the restaurant"
   ]
  },
  {
   "cell_type": "code",
   "execution_count": 180,
   "metadata": {},
   "outputs": [
    {
     "data": {
      "text/plain": [
       "<sqlite3.Cursor at 0xaf077b880>"
      ]
     },
     "execution_count": 180,
     "metadata": {},
     "output_type": "execute_result"
    }
   ],
   "source": [
    "cursor.execute('''CREATE TABLE RESTAURANTS1\n",
    "         (ID INT PRIMARY KEY     NOT NULL,\n",
    "         NAME           TEXT    NOT NULL,\n",
    "         LOCATION        CHAR(50),\n",
    "         RATING REAL);''')"
   ]
  },
  {
   "cell_type": "code",
   "execution_count": 181,
   "metadata": {},
   "outputs": [],
   "source": [
    "cursor.execute(\"INSERT INTO RESTAURANTS1 (ID,NAME,LOCATION,RATING)\\\n",
    "       VALUES (105, 'RAJ PAILION', 'Bangalore', 4.5)\");\n",
    "cursor.execute(\"INSERT INTO RESTAURANTS1 (ID,NAME,LOCATION,RATING)\\\n",
    "      VALUES (106, 'ITC Gardenia', 'Bangalore', 4.6)\");\n",
    "cursor.execute(\"INSERT INTO RESTAURANTS1 (ID,NAME,LOCATION,RATING)\\\n",
    "      VALUES (107, 'The Creek', 'Bangalore', 4.2 )\");\n",
    "cursor.execute(\"INSERT INTO RESTAURANTS1 (ID,NAME,LOCATION,RATING)\\\n",
    "      VALUES (108, 'ShakesBierre', 'Bangalore', 4.3)\");\n",
    "cursor.execute(\"INSERT INTO RESTAURANTS1 (ID,NAME,LOCATION,RATING)\\\n",
    "      VALUES (109, 'Tim Tai', 'Bangalore', 4.0)\");\n",
    "cursor.execute(\"INSERT INTO RESTAURANTS1 (ID,NAME,LOCATION,RATING)\\\n",
    "      VALUES (110, 'Kebabs & Kerries', 'Bangalore', 5.0 )\");\n",
    "cursor.execute(\"INSERT INTO RESTAURANTS1 (ID,NAME,LOCATION,RATING)\\\n",
    "      VALUES (111, 'Time Traveller', 'Bangalore', 4.8)\");\n",
    "cursor.execute(\"INSERT INTO RESTAURANTS1 (ID,NAME,LOCATION,RATING)\\\n",
    "      VALUES (112, 'Tarmarind', 'Bangalore', 4.2)\");\n",
    "cursor.execute(\"INSERT INTO RESTAURANTS1 (ID,NAME,LOCATION,RATING)\\\n",
    "      VALUES (113, 'The Royal Afghan', 'Bangalore', 4.1)\");\n",
    "cursor.execute(\"INSERT INTO RESTAURANTS1 (ID,NAME,LOCATION,RATING)\\\n",
    "      VALUES (114, 'Tiamo', 'Bangalore',  4.7 )\");\n",
    "cursor.execute(\"INSERT INTO RESTAURANTS1 (ID,NAME,LOCATION,RATING)\\\n",
    "      VALUES (115, 'Whitefield Bar aand Grill', 'Bangalore', 4.5)\");\n",
    "cursor.execute(\"INSERT INTO RESTAURANTS1 (ID,NAME,LOCATION,RATING)\\\n",
    "      VALUES (116, 'Cubbon Pavilion', 'Bangalore', 5.0)\");\n",
    "cursor.execute(\"INSERT INTO RESTAURANTS1 (ID,NAME,LOCATION,RATING)\\\n",
    "      VALUES (117, 'Alto Vino', 'Bangalore', 4.7 )\");\n",
    "cursor.execute(\"INSERT INTO RESTAURANTS1 (ID,NAME,LOCATION,RATING)\\\n",
    "      VALUES (118, 'Yataii', 'Bangalore', 4.5)\");\n",
    "cursor.execute(\"INSERT INTO RESTAURANTS1 (ID,NAME,LOCATION,RATING)\\\n",
    "      VALUES (119, 'Hype', 'Bangalore', 4.3)\");\n",
    "cursor.execute(\"INSERT INTO RESTAURANTS1 (ID,NAME,LOCATION,RATING)\\\n",
    "      VALUES (120, 'Blue Wings', 'Bangalore', 3.9)\");\n",
    "cursor.execute(\"INSERT INTO RESTAURANTS1 (ID,NAME,LOCATION,RATING)\\\n",
    "      VALUES (121, 'Classic INN', 'Bangalore', 3.8)\");\n",
    "cursor.execute(\"INSERT INTO RESTAURANTS1 (ID,NAME,LOCATION,RATING)\\\n",
    "      VALUES (122, 'Matru Sagar Veg', 'Bangalore', 3.5)\");\n",
    "cursor.execute(\"INSERT INTO RESTAURANTS1 (ID,NAME,LOCATION,RATING)\\\n",
    "      VALUES (123, 'Wok Paper Scissors', 'Bangalore', 4.7)\");\n",
    "cursor.execute(\"INSERT INTO RESTAURANTS1 (ID,NAME,LOCATION,RATING)\\\n",
    "      VALUES (124, 'Farzi Cafe', 'Bangalore', 4.2)\");\n",
    "\n",
    "conn.commit()\n"
   ]
  },
  {
   "cell_type": "markdown",
   "metadata": {},
   "source": [
    "So far I have created 3 tables , now I will  import the **pandas** library and convert these SQL tables into pandas dataframe and run SQL Queries on them later"
   ]
  },
  {
   "cell_type": "code",
   "execution_count": 182,
   "metadata": {},
   "outputs": [],
   "source": [
    "import pandas as pd"
   ]
  },
  {
   "cell_type": "markdown",
   "metadata": {},
   "source": [
    "#### Different Tables in the Database"
   ]
  },
  {
   "cell_type": "code",
   "execution_count": 183,
   "metadata": {},
   "outputs": [
    {
     "name": "stdout",
     "output_type": "stream",
     "text": [
      "('DELIVERY2',)\n",
      "('CUSTOMER1',)\n",
      "('RESTAURANTS1',)\n"
     ]
    }
   ],
   "source": [
    "for row in cursor.execute(\"SELECT name FROM sqlite_master WHERE type='table';\"):\n",
    "    print(row)"
   ]
  },
  {
   "cell_type": "markdown",
   "metadata": {},
   "source": [
    "### Reading the tables into a Pandas Dataframe\n",
    "##### For this  purpose I will  use the command \"pd.read_sql_query\" "
   ]
  },
  {
   "cell_type": "code",
   "execution_count": 199,
   "metadata": {},
   "outputs": [],
   "source": [
    "Delivery_table = pd.read_sql_query(\"SELECT * FROM DELIVERY2\", conn)\n",
    "Customer_table = pd.read_sql_query(\"SELECT * FROM CUSTOMER1\", conn)\n",
    "Restaurant_table = pd.read_sql_query(\"SELECT * FROM RESTAURANTS1\", conn)\n",
    "Order_table = pd.read_sql_query(\"SELECT * FROM ORDERS4\", conn)"
   ]
  },
  {
   "cell_type": "markdown",
   "metadata": {},
   "source": [
    "### Table Containing details of the Zomato Delivery Assocites"
   ]
  },
  {
   "cell_type": "code",
   "execution_count": 185,
   "metadata": {},
   "outputs": [
    {
     "data": {
      "text/html": [
       "<div>\n",
       "<style scoped>\n",
       "    .dataframe tbody tr th:only-of-type {\n",
       "        vertical-align: middle;\n",
       "    }\n",
       "\n",
       "    .dataframe tbody tr th {\n",
       "        vertical-align: top;\n",
       "    }\n",
       "\n",
       "    .dataframe thead th {\n",
       "        text-align: right;\n",
       "    }\n",
       "</style>\n",
       "<table border=\"1\" class=\"dataframe\">\n",
       "  <thead>\n",
       "    <tr style=\"text-align: right;\">\n",
       "      <th></th>\n",
       "      <th>ID</th>\n",
       "      <th>NAME</th>\n",
       "      <th>AGE</th>\n",
       "      <th>LOCATION</th>\n",
       "      <th>RATING</th>\n",
       "      <th>AVG</th>\n",
       "    </tr>\n",
       "  </thead>\n",
       "  <tbody>\n",
       "    <tr>\n",
       "      <th>0</th>\n",
       "      <td>1</td>\n",
       "      <td>Rohan</td>\n",
       "      <td>23</td>\n",
       "      <td>Bangalore</td>\n",
       "      <td>4.3</td>\n",
       "      <td>32.0</td>\n",
       "    </tr>\n",
       "    <tr>\n",
       "      <th>1</th>\n",
       "      <td>2</td>\n",
       "      <td>Allen</td>\n",
       "      <td>21</td>\n",
       "      <td>Bangalore</td>\n",
       "      <td>4.0</td>\n",
       "      <td>27.0</td>\n",
       "    </tr>\n",
       "    <tr>\n",
       "      <th>2</th>\n",
       "      <td>3</td>\n",
       "      <td>Martha</td>\n",
       "      <td>28</td>\n",
       "      <td>Bangalore</td>\n",
       "      <td>4.8</td>\n",
       "      <td>25.3</td>\n",
       "    </tr>\n",
       "    <tr>\n",
       "      <th>3</th>\n",
       "      <td>4</td>\n",
       "      <td>Palak</td>\n",
       "      <td>32</td>\n",
       "      <td>Bangalore</td>\n",
       "      <td>3.9</td>\n",
       "      <td>30.2</td>\n",
       "    </tr>\n",
       "    <tr>\n",
       "      <th>4</th>\n",
       "      <td>5</td>\n",
       "      <td>Rahul</td>\n",
       "      <td>20</td>\n",
       "      <td>Bangalore</td>\n",
       "      <td>4.1</td>\n",
       "      <td>27.4</td>\n",
       "    </tr>\n",
       "  </tbody>\n",
       "</table>\n",
       "</div>"
      ],
      "text/plain": [
       "   ID    NAME  AGE   LOCATION  RATING   AVG\n",
       "0   1   Rohan   23  Bangalore     4.3  32.0\n",
       "1   2   Allen   21  Bangalore     4.0  27.0\n",
       "2   3  Martha   28  Bangalore     4.8  25.3\n",
       "3   4   Palak   32  Bangalore     3.9  30.2\n",
       "4   5   Rahul   20  Bangalore     4.1  27.4"
      ]
     },
     "execution_count": 185,
     "metadata": {},
     "output_type": "execute_result"
    }
   ],
   "source": [
    "Delivery_table.head()"
   ]
  },
  {
   "cell_type": "markdown",
   "metadata": {},
   "source": [
    "### Table Containing details of the Zomato Users/Customers"
   ]
  },
  {
   "cell_type": "code",
   "execution_count": 186,
   "metadata": {},
   "outputs": [
    {
     "data": {
      "text/html": [
       "<div>\n",
       "<style scoped>\n",
       "    .dataframe tbody tr th:only-of-type {\n",
       "        vertical-align: middle;\n",
       "    }\n",
       "\n",
       "    .dataframe tbody tr th {\n",
       "        vertical-align: top;\n",
       "    }\n",
       "\n",
       "    .dataframe thead th {\n",
       "        text-align: right;\n",
       "    }\n",
       "</style>\n",
       "<table border=\"1\" class=\"dataframe\">\n",
       "  <thead>\n",
       "    <tr style=\"text-align: right;\">\n",
       "      <th></th>\n",
       "      <th>ID</th>\n",
       "      <th>NAME</th>\n",
       "      <th>LOCATION</th>\n",
       "      <th>NO_OF_ORDERS_PER_MONTH</th>\n",
       "    </tr>\n",
       "  </thead>\n",
       "  <tbody>\n",
       "    <tr>\n",
       "      <th>0</th>\n",
       "      <td>21</td>\n",
       "      <td>Suamangal Saha</td>\n",
       "      <td>Bangalore</td>\n",
       "      <td>7</td>\n",
       "    </tr>\n",
       "    <tr>\n",
       "      <th>1</th>\n",
       "      <td>22</td>\n",
       "      <td>Vishal Roy</td>\n",
       "      <td>Bangalore</td>\n",
       "      <td>5</td>\n",
       "    </tr>\n",
       "    <tr>\n",
       "      <th>2</th>\n",
       "      <td>23</td>\n",
       "      <td>Kaushik Das</td>\n",
       "      <td>Bangalore</td>\n",
       "      <td>3</td>\n",
       "    </tr>\n",
       "    <tr>\n",
       "      <th>3</th>\n",
       "      <td>24</td>\n",
       "      <td>Girish Bhattacharjee</td>\n",
       "      <td>Bangalore</td>\n",
       "      <td>13</td>\n",
       "    </tr>\n",
       "    <tr>\n",
       "      <th>4</th>\n",
       "      <td>25</td>\n",
       "      <td>Sruti Bhattacharya</td>\n",
       "      <td>Bangalore</td>\n",
       "      <td>5</td>\n",
       "    </tr>\n",
       "  </tbody>\n",
       "</table>\n",
       "</div>"
      ],
      "text/plain": [
       "   ID                  NAME   LOCATION  NO_OF_ORDERS_PER_MONTH\n",
       "0  21        Suamangal Saha  Bangalore                       7\n",
       "1  22            Vishal Roy  Bangalore                       5\n",
       "2  23           Kaushik Das  Bangalore                       3\n",
       "3  24  Girish Bhattacharjee  Bangalore                      13\n",
       "4  25    Sruti Bhattacharya  Bangalore                       5"
      ]
     },
     "execution_count": 186,
     "metadata": {},
     "output_type": "execute_result"
    }
   ],
   "source": [
    "Customer_table.head()"
   ]
  },
  {
   "cell_type": "markdown",
   "metadata": {},
   "source": [
    "###  Table Containing details of the Zomato Restaurants"
   ]
  },
  {
   "cell_type": "code",
   "execution_count": 187,
   "metadata": {},
   "outputs": [
    {
     "data": {
      "text/html": [
       "<div>\n",
       "<style scoped>\n",
       "    .dataframe tbody tr th:only-of-type {\n",
       "        vertical-align: middle;\n",
       "    }\n",
       "\n",
       "    .dataframe tbody tr th {\n",
       "        vertical-align: top;\n",
       "    }\n",
       "\n",
       "    .dataframe thead th {\n",
       "        text-align: right;\n",
       "    }\n",
       "</style>\n",
       "<table border=\"1\" class=\"dataframe\">\n",
       "  <thead>\n",
       "    <tr style=\"text-align: right;\">\n",
       "      <th></th>\n",
       "      <th>ID</th>\n",
       "      <th>NAME</th>\n",
       "      <th>LOCATION</th>\n",
       "      <th>RATING</th>\n",
       "    </tr>\n",
       "  </thead>\n",
       "  <tbody>\n",
       "    <tr>\n",
       "      <th>0</th>\n",
       "      <td>105</td>\n",
       "      <td>RAJ PAILION</td>\n",
       "      <td>Bangalore</td>\n",
       "      <td>4.5</td>\n",
       "    </tr>\n",
       "    <tr>\n",
       "      <th>1</th>\n",
       "      <td>106</td>\n",
       "      <td>ITC Gardenia</td>\n",
       "      <td>Bangalore</td>\n",
       "      <td>4.6</td>\n",
       "    </tr>\n",
       "    <tr>\n",
       "      <th>2</th>\n",
       "      <td>107</td>\n",
       "      <td>The Creek</td>\n",
       "      <td>Bangalore</td>\n",
       "      <td>4.2</td>\n",
       "    </tr>\n",
       "    <tr>\n",
       "      <th>3</th>\n",
       "      <td>108</td>\n",
       "      <td>ShakesBierre</td>\n",
       "      <td>Bangalore</td>\n",
       "      <td>4.3</td>\n",
       "    </tr>\n",
       "    <tr>\n",
       "      <th>4</th>\n",
       "      <td>109</td>\n",
       "      <td>Tim Tai</td>\n",
       "      <td>Bangalore</td>\n",
       "      <td>4.0</td>\n",
       "    </tr>\n",
       "  </tbody>\n",
       "</table>\n",
       "</div>"
      ],
      "text/plain": [
       "    ID          NAME   LOCATION  RATING\n",
       "0  105   RAJ PAILION  Bangalore     4.5\n",
       "1  106  ITC Gardenia  Bangalore     4.6\n",
       "2  107     The Creek  Bangalore     4.2\n",
       "3  108  ShakesBierre  Bangalore     4.3\n",
       "4  109       Tim Tai  Bangalore     4.0"
      ]
     },
     "execution_count": 187,
     "metadata": {},
     "output_type": "execute_result"
    }
   ],
   "source": [
    "Restaurant_table.head()"
   ]
  },
  {
   "cell_type": "markdown",
   "metadata": {},
   "source": [
    "## SQL QUERIES FOR THE DIFFERENT QUESTIONS"
   ]
  },
  {
   "cell_type": "markdown",
   "metadata": {},
   "source": [
    "#### QUESTION 1 - Write a SQL query to find the number of Zomato users\n"
   ]
  },
  {
   "cell_type": "code",
   "execution_count": 188,
   "metadata": {},
   "outputs": [
    {
     "name": "stdout",
     "output_type": "stream",
     "text": [
      "   COUNT(*)\n",
      "0        20\n"
     ]
    }
   ],
   "source": [
    "Zomato_users = pd.read_sql_query(\"SELECT COUNT(*) FROM CUSTOMER1\", conn)\n",
    "print(Zomato_users)"
   ]
  },
  {
   "cell_type": "markdown",
   "metadata": {},
   "source": [
    "#### QUESTION 2 - Write a SQL query to find details of Zomato delivery Boy"
   ]
  },
  {
   "cell_type": "code",
   "execution_count": 189,
   "metadata": {},
   "outputs": [
    {
     "name": "stdout",
     "output_type": "stream",
     "text": [
      "        NAME  AGE   LOCATION  RATING\n",
      "0      Rohan   23  Bangalore     4.3\n",
      "1      Allen   21  Bangalore     4.0\n",
      "2     Martha   28  Bangalore     4.8\n",
      "3      Palak   32  Bangalore     3.9\n",
      "4      Rahul   20  Bangalore     4.1\n",
      "5   Drishant   29  Bangalore     3.8\n",
      "6      Mohan   25  Bangalore     4.0\n",
      "7     Vishal   19  Bangalore     4.3\n",
      "8     Ravish   23  Bangalore     4.4\n",
      "9      Kumar   24  Bangalore     4.0\n",
      "10     Shiva   35  Bangalore     3.6\n",
      "11     Kabir   33  Bangalore     3.9\n",
      "12    Gourav   23  Bangalore     4.4\n",
      "13  Drishant   29  Bangalore     3.8\n",
      "14     Vijay   40  Bangalore     4.7\n",
      "15        DK   17  Bangalore     4.5\n",
      "16      Ravi   37  Bangalore     3.4\n",
      "17    Gautam   23  Bangalore     4.0\n",
      "18      Viom   29  Bangalore     3.2\n",
      "19     Harry   35  Bangalore     4.6\n"
     ]
    }
   ],
   "source": [
    "Delivery_boy_details = pd.read_sql_query(\"SELECT NAME, AGE, LOCATION, RATING FROM DELIVERY2\",conn)\n",
    "print(Delivery_boy_details)"
   ]
  },
  {
   "cell_type": "markdown",
   "metadata": {},
   "source": [
    "#### QUESTION 3 - Write a SQL query to find  the list of Zomato users who made more than 10 orders in a particular month\n"
   ]
  },
  {
   "cell_type": "code",
   "execution_count": 190,
   "metadata": {},
   "outputs": [
    {
     "name": "stdout",
     "output_type": "stream",
     "text": [
      "                   NAME\n",
      "0  Girish Bhattacharjee\n",
      "1         Sayantini Deb\n",
      "2               DK Saha\n",
      "3             Arnab Roy\n",
      "4     Hrituraj Majumder\n",
      "5            Rajat Saha\n"
     ]
    }
   ],
   "source": [
    "Customer_order = pd.read_sql_query(\"SELECT NAME FROM CUSTOMER1 WHERE NO_OF_ORDERS_PER_MONTH > 10 \", conn)\n",
    "print(Customer_order)"
   ]
  },
  {
   "cell_type": "markdown",
   "metadata": {},
   "source": [
    "#### QUESTION 4 - Write a SQL query to find top 10 Zomato delivery Boy on basis of customer rating and time to deliver the item"
   ]
  },
  {
   "cell_type": "code",
   "execution_count": 191,
   "metadata": {},
   "outputs": [
    {
     "name": "stdout",
     "output_type": "stream",
     "text": [
      "     NAME  RATING    AVG\n",
      "0  Martha     4.8  25.30\n",
      "1   Vijay     4.7  23.18\n",
      "2   Harry     4.6  26.18\n",
      "3      DK     4.5  23.00\n",
      "4  Gourav     4.4  28.40\n",
      "5  Ravish     4.4  25.00\n",
      "6   Rohan     4.3  32.00\n",
      "7  Vishal     4.3  26.00\n",
      "8   Rahul     4.1  27.40\n",
      "9   Kumar     4.0  27.50\n"
     ]
    }
   ],
   "source": [
    "Efficient_delivery_boys = pd.read_sql_query(\"SELECT NAME, RATING, AVG FROM DELIVERY2 ORDER BY RATING DESC, AVG DESC LIMIT 10\", conn)\n",
    "print(Efficient_delivery_boys)"
   ]
  },
  {
   "cell_type": "markdown",
   "metadata": {},
   "source": [
    "##### Creating and populating the fourth table named \"ORDERS4\" which contains the details of the orders given by a customer on Zomato fro different Restaurants associated with it in a week (1st Sept, 2019 to 7th Sept, 2019)\n",
    "It has 4 columns :\\\n",
    "**ID** - Unique ID associated with each Order & also the primary key of the table\\\n",
    "**Date** - Date of the order\\\n",
    "**Customer_ID** - Id of the customer placing the order & also the Foreign Key as the Ids are similar to the Ids of the Customers in the CUSTOMER1 table \\\n",
    "**RESTAURANT_ID** - Id of the restaurant in which the order is placed & also the Foreign Key as the Ids are similar to the Ids of the Restaurants in the RESTAURANTS1 table"
   ]
  },
  {
   "cell_type": "code",
   "execution_count": 192,
   "metadata": {},
   "outputs": [
    {
     "data": {
      "text/plain": [
       "<sqlite3.Cursor at 0xaf077b880>"
      ]
     },
     "execution_count": 192,
     "metadata": {},
     "output_type": "execute_result"
    }
   ],
   "source": [
    "cursor.execute('''CREATE TABLE ORDERS4\n",
    "         (ID INT PRIMARY KEY     NOT NULL,\n",
    "         DATE        DATETIME,\n",
    "         CUSTOMER_ID INT references CUSTOMER1(ID),\n",
    "         RESTAURANT_ID INT references RESTAURANTS1(ID));''')"
   ]
  },
  {
   "cell_type": "code",
   "execution_count": 198,
   "metadata": {},
   "outputs": [],
   "source": [
    "cursor.execute(\"INSERT INTO ORDERS4 (ID,DATE,CUSTOMER_ID,RESTAURANT_ID)\\\n",
    "       VALUES (130, '2019-09-03', 25, 117)\");\n",
    "cursor.execute(\"INSERT INTO ORDERS4 (ID,DATE,CUSTOMER_ID,RESTAURANT_ID)\\\n",
    "       VALUES (131, '2019-09-07', 27, 123)\");\n",
    "cursor.execute(\"INSERT INTO ORDERS4 (ID,DATE,CUSTOMER_ID,RESTAURANT_ID)\\\n",
    "       VALUES (132, '2019-09-01', 25, 117)\");\n",
    "cursor.execute(\"INSERT INTO ORDERS4 (ID,DATE,CUSTOMER_ID,RESTAURANT_ID)\\\n",
    "       VALUES (133, '2019-09-06', 39, 109)\");\n",
    "cursor.execute(\"INSERT INTO ORDERS4 (ID,DATE,CUSTOMER_ID,RESTAURANT_ID)\\\n",
    "       VALUES (134, '2019-09-05', 33, 109)\");\n",
    "cursor.execute(\"INSERT INTO ORDERS4 (ID,DATE,CUSTOMER_ID,RESTAURANT_ID)\\\n",
    "       VALUES (135, '2019-09-02', 25, 117)\");\n",
    "cursor.execute(\"INSERT INTO ORDERS4 (ID,DATE,CUSTOMER_ID,RESTAURANT_ID)\\\n",
    "       VALUES (136, '2019-09-04', 25, 117)\");\n",
    "\n",
    "conn.commit()\n"
   ]
  },
  {
   "cell_type": "markdown",
   "metadata": {},
   "source": [
    "###  Table Containing details of orders put by users on zomato from different Restaurants in a week"
   ]
  },
  {
   "cell_type": "code",
   "execution_count": 203,
   "metadata": {},
   "outputs": [
    {
     "data": {
      "text/html": [
       "<div>\n",
       "<style scoped>\n",
       "    .dataframe tbody tr th:only-of-type {\n",
       "        vertical-align: middle;\n",
       "    }\n",
       "\n",
       "    .dataframe tbody tr th {\n",
       "        vertical-align: top;\n",
       "    }\n",
       "\n",
       "    .dataframe thead th {\n",
       "        text-align: right;\n",
       "    }\n",
       "</style>\n",
       "<table border=\"1\" class=\"dataframe\">\n",
       "  <thead>\n",
       "    <tr style=\"text-align: right;\">\n",
       "      <th></th>\n",
       "      <th>ID</th>\n",
       "      <th>DATE</th>\n",
       "      <th>CUSTOMER_ID</th>\n",
       "      <th>RESTAURANT_ID</th>\n",
       "    </tr>\n",
       "  </thead>\n",
       "  <tbody>\n",
       "    <tr>\n",
       "      <th>0</th>\n",
       "      <td>130</td>\n",
       "      <td>2019-09-03</td>\n",
       "      <td>25</td>\n",
       "      <td>117</td>\n",
       "    </tr>\n",
       "    <tr>\n",
       "      <th>1</th>\n",
       "      <td>131</td>\n",
       "      <td>2019-09-07</td>\n",
       "      <td>27</td>\n",
       "      <td>123</td>\n",
       "    </tr>\n",
       "    <tr>\n",
       "      <th>2</th>\n",
       "      <td>132</td>\n",
       "      <td>2019-09-01</td>\n",
       "      <td>25</td>\n",
       "      <td>117</td>\n",
       "    </tr>\n",
       "    <tr>\n",
       "      <th>3</th>\n",
       "      <td>133</td>\n",
       "      <td>2019-09-06</td>\n",
       "      <td>39</td>\n",
       "      <td>109</td>\n",
       "    </tr>\n",
       "    <tr>\n",
       "      <th>4</th>\n",
       "      <td>134</td>\n",
       "      <td>2019-09-05</td>\n",
       "      <td>33</td>\n",
       "      <td>109</td>\n",
       "    </tr>\n",
       "    <tr>\n",
       "      <th>5</th>\n",
       "      <td>135</td>\n",
       "      <td>2019-09-02</td>\n",
       "      <td>25</td>\n",
       "      <td>117</td>\n",
       "    </tr>\n",
       "    <tr>\n",
       "      <th>6</th>\n",
       "      <td>136</td>\n",
       "      <td>2019-09-04</td>\n",
       "      <td>25</td>\n",
       "      <td>117</td>\n",
       "    </tr>\n",
       "  </tbody>\n",
       "</table>\n",
       "</div>"
      ],
      "text/plain": [
       "    ID        DATE  CUSTOMER_ID  RESTAURANT_ID\n",
       "0  130  2019-09-03           25            117\n",
       "1  131  2019-09-07           27            123\n",
       "2  132  2019-09-01           25            117\n",
       "3  133  2019-09-06           39            109\n",
       "4  134  2019-09-05           33            109\n",
       "5  135  2019-09-02           25            117\n",
       "6  136  2019-09-04           25            117"
      ]
     },
     "execution_count": 203,
     "metadata": {},
     "output_type": "execute_result"
    }
   ],
   "source": [
    "Order_table"
   ]
  },
  {
   "cell_type": "markdown",
   "metadata": {},
   "source": [
    "My try to solve the test to the best of my knowledge. I thank the YULU team for giving me this opportunity. Will be looking forward to hear back from you."
   ]
  },
  {
   "cell_type": "code",
   "execution_count": null,
   "metadata": {},
   "outputs": [],
   "source": []
  }
 ],
 "metadata": {
  "kernelspec": {
   "display_name": "Python 3",
   "language": "python",
   "name": "python3"
  },
  "language_info": {
   "codemirror_mode": {
    "name": "ipython",
    "version": 3
   },
   "file_extension": ".py",
   "mimetype": "text/x-python",
   "name": "python",
   "nbconvert_exporter": "python",
   "pygments_lexer": "ipython3",
   "version": "3.7.3"
  }
 },
 "nbformat": 4,
 "nbformat_minor": 2
}
